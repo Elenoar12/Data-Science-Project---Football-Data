{
 "cells": [
  {
   "cell_type": "code",
   "execution_count": 9,
   "metadata": {},
   "outputs": [],
   "source": [
    "from selenium import webdriver\n",
    "import time\n",
    "from bs4 import BeautifulSoup\n",
    "import pandas as pd\n",
    "import numpy as np\n",
    "\n",
    "# Specify the URL of the website\n",
    "url = \"https://fbref.com/en/comps/9/stats/Premier-League-Stats\"  # Replace with your URL\n",
    "\n",
    "# Start a headless browser session\n",
    "options = webdriver.ChromeOptions()\n",
    "options.add_argument(\"--headless\")  # Run the browser in headless mode\n",
    "driver = webdriver.Chrome(options=options)\n",
    "\n",
    "# Navigate to the webpage\n",
    "driver.get(url)\n",
    "\n",
    "# Wait for the table to load (adjust the time as needed)\n",
    "time.sleep(5)  # You may need to increase or decrease this wait time\n",
    "\n",
    "# Get the page source after the table has loaded\n",
    "page_source = driver.page_source\n",
    "\n",
    "# Parse the HTML using BeautifulSoup\n",
    "soup = BeautifulSoup(page_source, 'html.parser')\n",
    "\n",
    "# Locate the specific table you want to scrape\n",
    "table = soup.find('table', id = 'stats_standard', class_ = 'min_width sortable stats_table shade_zero now_sortable sticky_table eq2 re2 le2')  # Adjust the identifier as needed\n",
    "\n",
    "# Extract both headers and data within a single loop\n",
    "data = []\n",
    "data_rows = table.find_all('tr', {'data-row': True})\n",
    "for row in data_rows:\n",
    "    cells = row.find_all(['th', 'td'], {'data-stat': True})\n",
    "    ind_data = [cell.text.strip() for cell in cells]\n",
    "    data.append(ind_data)\n",
    "    headers = [cell['data-stat'] for cell in cells]\n",
    "\n",
    "# Create dataframe and drop last 'Matches' column\n",
    "player_stats = pd.DataFrame(data, columns=headers)\n",
    "player_stats = player_stats.drop(player_stats.columns[-1], axis=1)\n",
    "\n",
    "# Remove rows containing headers 'Rk'\n",
    "player_stats = player_stats[player_stats['ranker'] != 'Rk']\n",
    "\n",
    "# Reset the index to consecutive integers\n",
    "player_stats.reset_index(drop=True, inplace=True)\n",
    "\n",
    "# Convert position to string and split multiples positions\n",
    "player_stats['position'] = player_stats['position'].astype('string').str.split(\",\")\n",
    "\n",
    "# Convert age string to float\n",
    "player_stats['age'] = player_stats['age'].apply(lambda x: float(x.split('-')[0]) + round(float(x.split('-')[1]) / 365, 3))\n",
    "\n",
    "# Replace empty strings with float 0\n",
    "player_stats = player_stats.applymap(lambda x: 0 if x == '' else x)\n",
    "\n",
    "# # Convert data strings to float\n",
    "player_stats.iloc[:, 6:] = player_stats.iloc[:, 6:].astype(float)\n",
    "\n",
    "# Close the browser\n",
    "driver.quit()\n",
    "\n",
    "# # Save the DataFrame to an Excel file using XlsxWriter as the engine\n",
    "# player_stats.to_excel('FBREF prem stats.xlsx', engine='xlsxwriter', index=False)"
   ]
  },
  {
   "cell_type": "code",
   "execution_count": 10,
   "metadata": {},
   "outputs": [],
   "source": [
    "# Correlation matrix to detect correlation between features\n",
    "def cross_corr_mean(df_input, corr_coeff=0.80, plot=0):\n",
    "    \"\"\" The function retuns a list of features to be dropped from the input features. \"\"\"\n",
    "    # Generating correlation matrix of input features\n",
    "    corr_matrix = df_input.corr(method = 'pearson') # For more info on the methods please refer to https://www.kaggle.com/kiyoung1027/correlation-pearson-spearman-and-kendall\n",
    "\n",
    "    # Plotting cross correlation matrix\n",
    "    if plot == 1:\n",
    "        # Create a heatmap of the correlation matrix\n",
    "        plt.figure(figsize=(36, 24))\n",
    "        sns.heatmap(corr_matrix, annot=True, cmap='coolwarm', fmt=\".2f\", linewidths=0.5)\n",
    "        plt.title('Correlation Matrix Heatmap (PCA)')\n",
    "        plt.show()\n",
    "\n",
    "    # Generating mean correlation with all features\n",
    "    corr_mean = abs(corr_matrix).mean()\n",
    "\n",
    "    # Preparing data\n",
    "    features_drop_list = [] # This will contain the list of features to be dropped\n",
    "    features_index_drop_list = [] # This will contain the index of features to be dropped as per df_input\n",
    "    corr_matrix = abs(corr_matrix)\n",
    "\n",
    "    # Selecting features to be dropped (Using two for loops that runs on one triangle of the corr_matrix to avoid checking the correlation of a variable with itself)\n",
    "    for i in range(corr_matrix.shape[0]):\n",
    "        for j in range(i+1,corr_matrix.shape[0]):\n",
    "\n",
    "            # The following if statement checks if each correlation value is higher than threshold (or equal) and also ensures the two columns have NOT been dropped already.  \n",
    "            if corr_matrix.iloc[i,j]>=corr_coeff and i not in features_index_drop_list and j not in features_index_drop_list:\n",
    "\n",
    "                # The following if statement checks which of the 2 variables with high correlation has a lower correlation with all features and then drops it. If equal we can drop any and it drops the first one (This is arbitrary)\n",
    "                if corr_mean[corr_matrix.columns[i]] >= corr_mean[corr_matrix.columns[j]]:\n",
    "                    features_drop_list.append(corr_matrix.columns[i])\t# Name of variable that needs to be dropped appended to list\n",
    "                    features_index_drop_list.append(i)\t# Index of variable that needs to be dropped appended to list. This is used to not check for the same variables repeatedly\n",
    "                else:\n",
    "                    features_drop_list.append(corr_matrix.columns[j])\n",
    "                    features_index_drop_list.append(j)\n",
    "\n",
    "    return features_drop_list"
   ]
  },
  {
   "cell_type": "code",
   "execution_count": 16,
   "metadata": {},
   "outputs": [
    {
     "data": {
      "text/plain": [
       "Index(['ranker', 'player', 'nationality', 'position', 'team', 'age',\n",
       "       'birth_year', 'games', 'games_starts', 'minutes', 'minutes_90s',\n",
       "       'goals', 'assists', 'goals_assists', 'goals_pens', 'pens_made',\n",
       "       'pens_att', 'cards_yellow', 'cards_red', 'xg', 'npxg', 'xg_assist',\n",
       "       'npxg_xg_assist', 'progressive_carries', 'progressive_passes',\n",
       "       'progressive_passes_received', 'goals_per90', 'assists_per90',\n",
       "       'goals_assists_per90', 'goals_pens_per90', 'goals_assists_pens_per90',\n",
       "       'xg_per90', 'xg_assist_per90', 'xg_xg_assist_per90', 'npxg_per90',\n",
       "       'npxg_xg_assist_per90'],\n",
       "      dtype='object')"
      ]
     },
     "execution_count": 16,
     "metadata": {},
     "output_type": "execute_result"
    }
   ],
   "source": [
    "player_stats.columns"
   ]
  },
  {
   "cell_type": "code",
   "execution_count": 11,
   "metadata": {},
   "outputs": [],
   "source": [
    "import seaborn as sns\n",
    "import matplotlib.pyplot as plt\n",
    "import plotly_express as px\n",
    "from sklearn.preprocessing import StandardScaler\n",
    "\n",
    "# Cluster analysis - midfielders:\n",
    "mid = player_stats[player_stats['position'].apply(lambda x: 'MF' in x)]\n",
    "\n",
    "# Step 1: Extract numeric columns\n",
    "num_cols = mid.select_dtypes(include='float64').columns\n",
    "data_num = mid[num_cols]\n",
    "\n",
    "# Standardize using scaler\n",
    "scaler = StandardScaler()\n",
    "data_scal = pd.DataFrame(scaler.fit_transform(data_num), columns = data_num.columns)\n",
    "\n",
    "# # Create a heatmap of the correlation matrix\n",
    "# plt.figure(figsize=(36, 24))\n",
    "# sns.heatmap(corr_matrix, annot=True, cmap='coolwarm', fmt=\".2f\", linewidths=0.5)\n",
    "# plt.title('Correlation Matrix Heatmap (PCA)')\n",
    "# plt.show()\n",
    "\n",
    "# Step 2: Identify groups of highly correlated features\n",
    "# Drop columns with large correlation\n",
    "# You can define a threshold (e.g., 0.80) to consider features as highly correlated\n",
    "# threshold = 0.80\n",
    "# corr_groups = {}  # Dictionary to store groups of correlated features\n",
    "\n",
    "# for feature in corr_matrix.columns:\n",
    "#     corr_feat = corr_matrix.index[corr_matrix[feature] > threshold].tolist()\n",
    "#     if corr_feat:\n",
    "#         corr_feat.append(feature)  # Include the original feature\n",
    "#         corr_groups[feature] = corr_feat\n",
    "\n",
    "# # Step 3: Choose one representative feature from each group\n",
    "# # You can select a feature based on domain knowledge or a specific criterion\n",
    "# repr_feat = []\n",
    "# for group in corr_groups.values():\n",
    "#     # Here, we choose the first feature in each group as the representative\n",
    "#     repr_feat.append(group[0])\n",
    "\n",
    "# # Step 4: Create a new DataFrame with representative features\n",
    "# filter_data = data_scal[repr_feat]\n",
    "# print(filter_data)\n",
    "\n",
    "# data"
   ]
  },
  {
   "cell_type": "code",
   "execution_count": 19,
   "metadata": {},
   "outputs": [
    {
     "name": "stdout",
     "output_type": "stream",
     "text": [
      "['age', 'games', 'minutes', 'minutes_90s', 'goals_assists', 'goals', 'pens_att', 'xg', 'npxg_xg_assist', 'progressive_passes_received', 'goals_per90', 'goals_assists_per90', 'xg_xg_assist_per90', 'xg_per90', 'npxg_xg_assist_per90']\n"
     ]
    },
    {
     "data": {
      "text/html": [
       "<div>\n",
       "<style scoped>\n",
       "    .dataframe tbody tr th:only-of-type {\n",
       "        vertical-align: middle;\n",
       "    }\n",
       "\n",
       "    .dataframe tbody tr th {\n",
       "        vertical-align: top;\n",
       "    }\n",
       "\n",
       "    .dataframe thead th {\n",
       "        text-align: right;\n",
       "    }\n",
       "</style>\n",
       "<table border=\"1\" class=\"dataframe\">\n",
       "  <thead>\n",
       "    <tr style=\"text-align: right;\">\n",
       "      <th></th>\n",
       "      <th>ranker</th>\n",
       "      <th>player</th>\n",
       "      <th>nationality</th>\n",
       "      <th>position</th>\n",
       "      <th>team</th>\n",
       "      <th>age</th>\n",
       "      <th>birth_year</th>\n",
       "      <th>games</th>\n",
       "      <th>games_starts</th>\n",
       "      <th>minutes</th>\n",
       "      <th>...</th>\n",
       "      <th>goals_per90</th>\n",
       "      <th>assists_per90</th>\n",
       "      <th>goals_assists_per90</th>\n",
       "      <th>goals_pens_per90</th>\n",
       "      <th>goals_assists_pens_per90</th>\n",
       "      <th>xg_per90</th>\n",
       "      <th>xg_assist_per90</th>\n",
       "      <th>xg_xg_assist_per90</th>\n",
       "      <th>npxg_per90</th>\n",
       "      <th>npxg_xg_assist_per90</th>\n",
       "    </tr>\n",
       "  </thead>\n",
       "  <tbody>\n",
       "    <tr>\n",
       "      <th>1</th>\n",
       "      <td>2</td>\n",
       "      <td>Bénie Adama Traore</td>\n",
       "      <td>ci CIV</td>\n",
       "      <td>[FW, MF]</td>\n",
       "      <td>Sheffield Utd</td>\n",
       "      <td>20.940</td>\n",
       "      <td>2002.0</td>\n",
       "      <td>6.0</td>\n",
       "      <td>3.0</td>\n",
       "      <td>325.0</td>\n",
       "      <td>...</td>\n",
       "      <td>0.00</td>\n",
       "      <td>0.00</td>\n",
       "      <td>0.00</td>\n",
       "      <td>0.00</td>\n",
       "      <td>0.00</td>\n",
       "      <td>0.07</td>\n",
       "      <td>0.13</td>\n",
       "      <td>0.20</td>\n",
       "      <td>0.07</td>\n",
       "      <td>0.20</td>\n",
       "    </tr>\n",
       "    <tr>\n",
       "      <th>4</th>\n",
       "      <td>5</td>\n",
       "      <td>Simon Adingra</td>\n",
       "      <td>ci CIV</td>\n",
       "      <td>[FW, MF]</td>\n",
       "      <td>Brighton</td>\n",
       "      <td>21.852</td>\n",
       "      <td>2002.0</td>\n",
       "      <td>10.0</td>\n",
       "      <td>6.0</td>\n",
       "      <td>576.0</td>\n",
       "      <td>...</td>\n",
       "      <td>0.31</td>\n",
       "      <td>0.16</td>\n",
       "      <td>0.47</td>\n",
       "      <td>0.31</td>\n",
       "      <td>0.47</td>\n",
       "      <td>0.15</td>\n",
       "      <td>0.20</td>\n",
       "      <td>0.35</td>\n",
       "      <td>0.15</td>\n",
       "      <td>0.35</td>\n",
       "    </tr>\n",
       "    <tr>\n",
       "      <th>6</th>\n",
       "      <td>7</td>\n",
       "      <td>Naouirou Ahamada</td>\n",
       "      <td>fr FRA</td>\n",
       "      <td>[MF, FW]</td>\n",
       "      <td>Crystal Palace</td>\n",
       "      <td>21.614</td>\n",
       "      <td>2002.0</td>\n",
       "      <td>5.0</td>\n",
       "      <td>0.0</td>\n",
       "      <td>80.0</td>\n",
       "      <td>...</td>\n",
       "      <td>0.00</td>\n",
       "      <td>0.00</td>\n",
       "      <td>0.00</td>\n",
       "      <td>0.00</td>\n",
       "      <td>0.00</td>\n",
       "      <td>0.00</td>\n",
       "      <td>0.00</td>\n",
       "      <td>0.00</td>\n",
       "      <td>0.00</td>\n",
       "      <td>0.00</td>\n",
       "    </tr>\n",
       "    <tr>\n",
       "      <th>8</th>\n",
       "      <td>9</td>\n",
       "      <td>Ola Aina</td>\n",
       "      <td>ng NGA</td>\n",
       "      <td>[DF, MF]</td>\n",
       "      <td>Nott'ham Forest</td>\n",
       "      <td>27.085</td>\n",
       "      <td>1996.0</td>\n",
       "      <td>8.0</td>\n",
       "      <td>7.0</td>\n",
       "      <td>553.0</td>\n",
       "      <td>...</td>\n",
       "      <td>0.16</td>\n",
       "      <td>0.00</td>\n",
       "      <td>0.16</td>\n",
       "      <td>0.16</td>\n",
       "      <td>0.16</td>\n",
       "      <td>0.02</td>\n",
       "      <td>0.04</td>\n",
       "      <td>0.06</td>\n",
       "      <td>0.02</td>\n",
       "      <td>0.06</td>\n",
       "    </tr>\n",
       "    <tr>\n",
       "      <th>9</th>\n",
       "      <td>10</td>\n",
       "      <td>Rayan Aït Nouri</td>\n",
       "      <td>dz ALG</td>\n",
       "      <td>[MF, DF]</td>\n",
       "      <td>Wolves</td>\n",
       "      <td>22.425</td>\n",
       "      <td>2001.0</td>\n",
       "      <td>11.0</td>\n",
       "      <td>10.0</td>\n",
       "      <td>784.0</td>\n",
       "      <td>...</td>\n",
       "      <td>0.00</td>\n",
       "      <td>0.00</td>\n",
       "      <td>0.00</td>\n",
       "      <td>0.00</td>\n",
       "      <td>0.00</td>\n",
       "      <td>0.13</td>\n",
       "      <td>0.05</td>\n",
       "      <td>0.18</td>\n",
       "      <td>0.13</td>\n",
       "      <td>0.18</td>\n",
       "    </tr>\n",
       "    <tr>\n",
       "      <th>...</th>\n",
       "      <td>...</td>\n",
       "      <td>...</td>\n",
       "      <td>...</td>\n",
       "      <td>...</td>\n",
       "      <td>...</td>\n",
       "      <td>...</td>\n",
       "      <td>...</td>\n",
       "      <td>...</td>\n",
       "      <td>...</td>\n",
       "      <td>...</td>\n",
       "      <td>...</td>\n",
       "      <td>...</td>\n",
       "      <td>...</td>\n",
       "      <td>...</td>\n",
       "      <td>...</td>\n",
       "      <td>...</td>\n",
       "      <td>...</td>\n",
       "      <td>...</td>\n",
       "      <td>...</td>\n",
       "      <td>...</td>\n",
       "      <td>...</td>\n",
       "    </tr>\n",
       "    <tr>\n",
       "      <th>458</th>\n",
       "      <td>459</td>\n",
       "      <td>Cauley Woodrow</td>\n",
       "      <td>eng ENG</td>\n",
       "      <td>[FW, MF]</td>\n",
       "      <td>Luton Town</td>\n",
       "      <td>28.934</td>\n",
       "      <td>1994.0</td>\n",
       "      <td>7.0</td>\n",
       "      <td>0.0</td>\n",
       "      <td>81.0</td>\n",
       "      <td>...</td>\n",
       "      <td>0.00</td>\n",
       "      <td>0.00</td>\n",
       "      <td>0.00</td>\n",
       "      <td>0.00</td>\n",
       "      <td>0.00</td>\n",
       "      <td>0.68</td>\n",
       "      <td>0.39</td>\n",
       "      <td>1.07</td>\n",
       "      <td>0.68</td>\n",
       "      <td>1.07</td>\n",
       "    </tr>\n",
       "    <tr>\n",
       "      <th>460</th>\n",
       "      <td>461</td>\n",
       "      <td>Yehor Yarmoliuk</td>\n",
       "      <td>ua UKR</td>\n",
       "      <td>[MF]</td>\n",
       "      <td>Brentford</td>\n",
       "      <td>19.690</td>\n",
       "      <td>2004.0</td>\n",
       "      <td>3.0</td>\n",
       "      <td>0.0</td>\n",
       "      <td>42.0</td>\n",
       "      <td>...</td>\n",
       "      <td>0.00</td>\n",
       "      <td>0.00</td>\n",
       "      <td>0.00</td>\n",
       "      <td>0.00</td>\n",
       "      <td>0.00</td>\n",
       "      <td>0.00</td>\n",
       "      <td>0.00</td>\n",
       "      <td>0.00</td>\n",
       "      <td>0.00</td>\n",
       "      <td>0.00</td>\n",
       "    </tr>\n",
       "    <tr>\n",
       "      <th>461</th>\n",
       "      <td>462</td>\n",
       "      <td>Ryan Yates</td>\n",
       "      <td>eng ENG</td>\n",
       "      <td>[MF]</td>\n",
       "      <td>Nott'ham Forest</td>\n",
       "      <td>25.964</td>\n",
       "      <td>1997.0</td>\n",
       "      <td>9.0</td>\n",
       "      <td>3.0</td>\n",
       "      <td>366.0</td>\n",
       "      <td>...</td>\n",
       "      <td>0.00</td>\n",
       "      <td>0.00</td>\n",
       "      <td>0.00</td>\n",
       "      <td>0.00</td>\n",
       "      <td>0.00</td>\n",
       "      <td>0.02</td>\n",
       "      <td>0.03</td>\n",
       "      <td>0.04</td>\n",
       "      <td>0.02</td>\n",
       "      <td>0.04</td>\n",
       "    </tr>\n",
       "    <tr>\n",
       "      <th>464</th>\n",
       "      <td>465</td>\n",
       "      <td>Nicolò Zaniolo</td>\n",
       "      <td>it ITA</td>\n",
       "      <td>[FW, MF]</td>\n",
       "      <td>Aston Villa</td>\n",
       "      <td>24.353</td>\n",
       "      <td>1999.0</td>\n",
       "      <td>9.0</td>\n",
       "      <td>6.0</td>\n",
       "      <td>424.0</td>\n",
       "      <td>...</td>\n",
       "      <td>0.00</td>\n",
       "      <td>0.00</td>\n",
       "      <td>0.00</td>\n",
       "      <td>0.00</td>\n",
       "      <td>0.00</td>\n",
       "      <td>0.31</td>\n",
       "      <td>0.16</td>\n",
       "      <td>0.46</td>\n",
       "      <td>0.31</td>\n",
       "      <td>0.46</td>\n",
       "    </tr>\n",
       "    <tr>\n",
       "      <th>468</th>\n",
       "      <td>469</td>\n",
       "      <td>Martin Ødegaard</td>\n",
       "      <td>no NOR</td>\n",
       "      <td>[MF]</td>\n",
       "      <td>Arsenal</td>\n",
       "      <td>24.893</td>\n",
       "      <td>1998.0</td>\n",
       "      <td>9.0</td>\n",
       "      <td>9.0</td>\n",
       "      <td>787.0</td>\n",
       "      <td>...</td>\n",
       "      <td>0.34</td>\n",
       "      <td>0.11</td>\n",
       "      <td>0.46</td>\n",
       "      <td>0.11</td>\n",
       "      <td>0.23</td>\n",
       "      <td>0.29</td>\n",
       "      <td>0.08</td>\n",
       "      <td>0.38</td>\n",
       "      <td>0.11</td>\n",
       "      <td>0.20</td>\n",
       "    </tr>\n",
       "  </tbody>\n",
       "</table>\n",
       "<p>221 rows × 36 columns</p>\n",
       "</div>"
      ],
      "text/plain": [
       "    ranker              player nationality  position             team     age  \\\n",
       "1        2  Bénie Adama Traore      ci CIV  [FW, MF]    Sheffield Utd  20.940   \n",
       "4        5       Simon Adingra      ci CIV  [FW, MF]         Brighton  21.852   \n",
       "6        7    Naouirou Ahamada      fr FRA  [MF, FW]   Crystal Palace  21.614   \n",
       "8        9            Ola Aina      ng NGA  [DF, MF]  Nott'ham Forest  27.085   \n",
       "9       10     Rayan Aït Nouri      dz ALG  [MF, DF]           Wolves  22.425   \n",
       "..     ...                 ...         ...       ...              ...     ...   \n",
       "458    459      Cauley Woodrow     eng ENG  [FW, MF]       Luton Town  28.934   \n",
       "460    461     Yehor Yarmoliuk      ua UKR      [MF]        Brentford  19.690   \n",
       "461    462          Ryan Yates     eng ENG      [MF]  Nott'ham Forest  25.964   \n",
       "464    465      Nicolò Zaniolo      it ITA  [FW, MF]      Aston Villa  24.353   \n",
       "468    469     Martin Ødegaard      no NOR      [MF]          Arsenal  24.893   \n",
       "\n",
       "     birth_year  games  games_starts  minutes  ...  goals_per90  \\\n",
       "1        2002.0    6.0           3.0    325.0  ...         0.00   \n",
       "4        2002.0   10.0           6.0    576.0  ...         0.31   \n",
       "6        2002.0    5.0           0.0     80.0  ...         0.00   \n",
       "8        1996.0    8.0           7.0    553.0  ...         0.16   \n",
       "9        2001.0   11.0          10.0    784.0  ...         0.00   \n",
       "..          ...    ...           ...      ...  ...          ...   \n",
       "458      1994.0    7.0           0.0     81.0  ...         0.00   \n",
       "460      2004.0    3.0           0.0     42.0  ...         0.00   \n",
       "461      1997.0    9.0           3.0    366.0  ...         0.00   \n",
       "464      1999.0    9.0           6.0    424.0  ...         0.00   \n",
       "468      1998.0    9.0           9.0    787.0  ...         0.34   \n",
       "\n",
       "     assists_per90  goals_assists_per90  goals_pens_per90  \\\n",
       "1             0.00                 0.00              0.00   \n",
       "4             0.16                 0.47              0.31   \n",
       "6             0.00                 0.00              0.00   \n",
       "8             0.00                 0.16              0.16   \n",
       "9             0.00                 0.00              0.00   \n",
       "..             ...                  ...               ...   \n",
       "458           0.00                 0.00              0.00   \n",
       "460           0.00                 0.00              0.00   \n",
       "461           0.00                 0.00              0.00   \n",
       "464           0.00                 0.00              0.00   \n",
       "468           0.11                 0.46              0.11   \n",
       "\n",
       "     goals_assists_pens_per90  xg_per90  xg_assist_per90  xg_xg_assist_per90  \\\n",
       "1                        0.00      0.07             0.13                0.20   \n",
       "4                        0.47      0.15             0.20                0.35   \n",
       "6                        0.00      0.00             0.00                0.00   \n",
       "8                        0.16      0.02             0.04                0.06   \n",
       "9                        0.00      0.13             0.05                0.18   \n",
       "..                        ...       ...              ...                 ...   \n",
       "458                      0.00      0.68             0.39                1.07   \n",
       "460                      0.00      0.00             0.00                0.00   \n",
       "461                      0.00      0.02             0.03                0.04   \n",
       "464                      0.00      0.31             0.16                0.46   \n",
       "468                      0.23      0.29             0.08                0.38   \n",
       "\n",
       "     npxg_per90  npxg_xg_assist_per90  \n",
       "1          0.07                  0.20  \n",
       "4          0.15                  0.35  \n",
       "6          0.00                  0.00  \n",
       "8          0.02                  0.06  \n",
       "9          0.13                  0.18  \n",
       "..          ...                   ...  \n",
       "458        0.68                  1.07  \n",
       "460        0.00                  0.00  \n",
       "461        0.02                  0.04  \n",
       "464        0.31                  0.46  \n",
       "468        0.11                  0.20  \n",
       "\n",
       "[221 rows x 36 columns]"
      ]
     },
     "execution_count": 19,
     "metadata": {},
     "output_type": "execute_result"
    }
   ],
   "source": [
    "drop_list = cross_corr_mean(mid, 0.8, 0)\n",
    "print(drop_list)\n",
    "mid_pca = mid.drop(columns=drop_list)\n",
    "mid_pca\n",
    "mid"
   ]
  },
  {
   "cell_type": "code",
   "execution_count": 15,
   "metadata": {},
   "outputs": [
    {
     "data": {
      "application/vnd.plotly.v1+json": {
       "config": {
        "plotlyServerURL": "https://plot.ly"
       },
       "data": [
        {
         "hovertemplate": "<b>%{hovertext}</b><br><br>xg_per90=%{x}<br>xg_assist_per90=%{y}<extra></extra>",
         "hovertext": [
          "Max Aarons",
          "Simon Adingra",
          "Nayef Aguerd",
          "Anel Ahmedhodžić",
          "Ola Aina",
          "Rayan Aït Nouri",
          "Kristoffer Ajer",
          "Manuel Akanji",
          "Nathan Aké",
          "Trent Alexander-Arnold",
          "Alisson",
          "Miguel Almirón",
          "Edson Álvarez",
          "Julián Álvarez",
          "Zeki Amdouni",
          "Joachim Andersen",
          "Michail Antonio",
          "Cameron Archer",
          "Alphonse Areola",
          "Serge Aurier",
          "Taiwo Awoniyi",
          "Jordan Ayew",
          "Amari'i Bell",
          "Sander Berge",
          "Jordan Beyer",
          "Philip Billing",
          "Yves Bissouma",
          "Jayden Bogle",
          "Willy Boly",
          "Jarrod Bowen",
          "Jarrad Branthwaite",
          "Jacob Brown",
          "Josh Brownhill",
          "Reece Burke",
          "Dan Burn",
          "Moisés Caicedo",
          "Casemiro",
          "Matty Cash",
          "Timothy Castagne",
          "Ryan Christie",
          "Nathan Collins",
          "Levi Colwill",
          "Lewis Cook",
          "Vladimír Coufal",
          "Josh Cullen",
          "Matheus Cunha",
          "Ameen Al-Dakhil",
          "Diogo Dalot",
          "Craig Dawson",
          "Moussa Diaby",
          "Rúben Dias",
          "Luis Díaz",
          "Lucas Digne",
          "Issa Diop",
          "Axel Disasi",
          "Gabriel Dos Santos",
          "Abdoulaye Doucouré",
          "Cheick Doucouré",
          "Alfie Doughty",
          "Lewis Dunk",
          "Ederson",
          "Odsonne Édouard",
          "Anthony Elanga",
          "Christian Eriksen",
          "Eberechi Eze",
          "Evan Ferguson",
          "Bruno Fernandes",
          "Enzo Fernández",
          "Mark Flekken",
          "Phil Foden",
          "Wes Foderingham",
          "Lyle Foster",
          "Conor Gallagher",
          "Idrissa Gana Gueye",
          "James Garner",
          "Morgan Gibbs-White",
          "Billy Gilmour",
          "João Gomes",
          "Joe Gomez",
          "Anthony Gordon",
          "Pascal Groß",
          "Marc Guéhi",
          "Bruno Guimarães",
          "Malo Gusto",
          "Joško Gvardiol",
          "Erling Haaland",
          "Gustavo Hamer",
          "Kai Havertz",
          "Hwang Hee-chan",
          "Son Heung-min",
          "Aaron Hickey",
          "Will Hughes",
          "Rasmus Højlund",
          "Nicolas Jackson",
          "Vitaly Janelt",
          "Mathias Jensen",
          "Raúl Jiménez",
          "João Pedro",
          "Joelinton",
          "Sam Johnstone",
          "Issa Kaboré",
          "Boubacar Kamara",
          "Thomas Kaminski",
          "Lloyd Kelly",
          "Milos Kerkez",
          "Max Kilman",
          "Luca Koleosho",
          "Ezri Konsa",
          "Mateo Kovačić",
          "Dejan Kulusevski",
          "Mario Lemina",
          "Bernd Leno",
          "Jefferson Lerma",
          "Victor Lindelöf",
          "Tom Lockyer",
          "Sean Longstaff",
          "Douglas Luiz",
          "Alexis Mac Allister",
          "James Maddison",
          "Orel Mangala",
          "Solly March",
          "Gabriel Martinelli",
          "Emiliano Martínez",
          "Pape Matar Sarr",
          "Joël Matip",
          "Bryan Mbeumo",
          "John McGinn",
          "Dwight McNeil",
          "Tyrick Mitchell",
          "Kaoru Mitoma",
          "Carlton Morris",
          "Vitaliy Mykolenko",
          "Marvelous Nakamba",
          "Neto",
          "Pedro Neto",
          "Eddie Nketiah",
          "Oliver Norwood",
          "Darwin Núñez",
          "Christian Nørgaard",
          "Dara O'Shea",
          "Chiedozie Ogbene",
          "Amadou Onana",
          "André Onana",
          "João Palhinha",
          "Cole Palmer",
          "Emerson Palmieri",
          "Lucas Paquetá",
          "Nathan Patterson",
          "Andreas Pereira",
          "Jordan Pickford",
          "Ethan Pinnock",
          "Nick Pope",
          "Pedro Porro",
          "Marcus Rashford",
          "David Raya",
          "Tim Ream",
          "Harrison Reed",
          "Bobby Reid",
          "Declan Rice",
          "Richarlison",
          "Connor Roberts",
          "Andrew Robertson",
          "Antonee Robinson",
          "Jack Robinson",
          "Rodri",
          "Cristian Romero",
          "Pelly Ruddock Mpanzu",
          "José Sá",
          "Bukayo Saka",
          "Mohamed Salah",
          "William Saliba",
          "Robert Sánchez",
          "Ibrahim Sangaré",
          "Fabian Schär",
          "Jeffrey Schlupp",
          "Nélson Semedo",
          "Bernardo Silva",
          "Thiago Silva",
          "Dominic Solanke",
          "Tomáš Souček",
          "Vinicius Souza",
          "Jason Steele",
          "Raheem Sterling",
          "Dominik Szoboszlai",
          "James Tarkowski",
          "Marcus Tavernier",
          "Charlie Taylor",
          "Luke Thomas",
          "Pau Torres",
          "James Trafford",
          "Kieran Trippier",
          "Matt Turner",
          "Destiny Udogie",
          "Virgil van Dijk",
          "Joël Veltman",
          "Micky van de Ven",
          "Guglielmo Vicario",
          "Kyle Walker",
          "Joel Ward",
          "James Ward-Prowse",
          "Ollie Watkins",
          "Ben White",
          "Willian",
          "Harry Wilson",
          "Yoane Wissa",
          "Ashley Young",
          "Illia Zabarnyi",
          "Oleksandr Zinchenko",
          "Kurt Zouma",
          "Martin Ødegaard"
         ],
         "legendgroup": "",
         "marker": {
          "color": "#636efa",
          "symbol": "circle"
         },
         "mode": "markers",
         "name": "",
         "orientation": "v",
         "showlegend": false,
         "type": "scatter",
         "x": [
          0,
          0.15,
          0.09,
          0.11,
          0.02,
          0.13,
          0.1,
          0.01,
          0.18,
          0.06,
          0,
          0.16,
          0.04,
          0.31,
          0.25,
          0.07,
          0.21,
          0.09,
          0,
          0.01,
          0.36,
          0.16,
          0.04,
          0.11,
          0.01,
          0.15,
          0.1,
          0.1,
          0.13,
          0.42,
          0.02,
          0.29,
          0.06,
          0.06,
          0.09,
          0.02,
          0.25,
          0.29,
          0.02,
          0.05,
          0.05,
          0.08,
          0.01,
          0,
          0.01,
          0.29,
          0.02,
          0.04,
          0.06,
          0.2,
          0.05,
          0.4,
          0.02,
          0.02,
          0.08,
          0.03,
          0.33,
          0.03,
          0.03,
          0.14,
          0,
          0.3,
          0.16,
          0.07,
          0.32,
          0.42,
          0.28,
          0.25,
          0,
          0.28,
          0,
          0.23,
          0.07,
          0.04,
          0.12,
          0.12,
          0.05,
          0.02,
          0.04,
          0.37,
          0.16,
          0.06,
          0.09,
          0.02,
          0.03,
          1.02,
          0.08,
          0.25,
          0.31,
          0.45,
          0.03,
          0.03,
          0.21,
          0.82,
          0.06,
          0.04,
          0.17,
          0.48,
          0.12,
          0,
          0.03,
          0.01,
          0,
          0.02,
          0.01,
          0.04,
          0.19,
          0.06,
          0.1,
          0.11,
          0.14,
          0,
          0.03,
          0.02,
          0.08,
          0.16,
          0.31,
          0.01,
          0.29,
          0.03,
          0.32,
          0.14,
          0,
          0.2,
          0.07,
          0.6,
          0.13,
          0.11,
          0.04,
          0.25,
          0.36,
          0.06,
          0.02,
          0,
          0.24,
          0.36,
          0.11,
          0.85,
          0.16,
          0.02,
          0.11,
          0.11,
          0,
          0.09,
          0.64,
          0.01,
          0.2,
          0.06,
          0.11,
          0,
          0.09,
          0,
          0.09,
          0.38,
          0,
          0.1,
          0,
          0.41,
          0.08,
          0.46,
          0,
          0.06,
          0.01,
          0.05,
          0.14,
          0.09,
          0.08,
          0,
          0.42,
          0.76,
          0.01,
          0,
          0.1,
          0.06,
          0.16,
          0.06,
          0.12,
          0.02,
          0.39,
          0.33,
          0.02,
          0,
          0.26,
          0.07,
          0.08,
          0.1,
          0.01,
          0.07,
          0.04,
          0,
          0.01,
          0,
          0.02,
          0.08,
          0.01,
          0.03,
          0,
          0.01,
          0.06,
          0.18,
          0.49,
          0.05,
          0.16,
          0.11,
          0.44,
          0.02,
          0.02,
          0.05,
          0.06,
          0.29
         ],
         "xaxis": "x",
         "y": [
          0.08,
          0.2,
          0,
          0,
          0.04,
          0.05,
          0.24,
          0.02,
          0.1,
          0.24,
          0,
          0.06,
          0.01,
          0.16,
          0.04,
          0.11,
          0.08,
          0.08,
          0,
          0.06,
          0.12,
          0.19,
          0,
          0.09,
          0,
          0.11,
          0.03,
          0.05,
          0.1,
          0.16,
          0.01,
          0.09,
          0.1,
          0.06,
          0.05,
          0.04,
          0.04,
          0.11,
          0.04,
          0.14,
          0.08,
          0.08,
          0.04,
          0.11,
          0.06,
          0.13,
          0.01,
          0.09,
          0.06,
          0.36,
          0,
          0.1,
          0.18,
          0,
          0.02,
          0,
          0.15,
          0.06,
          0.2,
          0.01,
          0.01,
          0.06,
          0.29,
          0.16,
          0.23,
          0.07,
          0.34,
          0.12,
          0,
          0.19,
          0,
          0.17,
          0.15,
          0.07,
          0.19,
          0.2,
          0.24,
          0.04,
          0.04,
          0.19,
          0.16,
          0.01,
          0.12,
          0.1,
          0.09,
          0.24,
          0.08,
          0.1,
          0.26,
          0.24,
          0.01,
          0.08,
          0.05,
          0.07,
          0.1,
          0.19,
          0.12,
          0.22,
          0.19,
          0,
          0.19,
          0.08,
          0,
          0.02,
          0.01,
          0.04,
          0.16,
          0,
          0.12,
          0.24,
          0.01,
          0,
          0.1,
          0.04,
          0.06,
          0.11,
          0.07,
          0.04,
          0.29,
          0.02,
          0.16,
          0.19,
          0,
          0.14,
          0.01,
          0.21,
          0.15,
          0.32,
          0.07,
          0.16,
          0.04,
          0.04,
          0.04,
          0,
          0.28,
          0.02,
          0.05,
          0.26,
          0.09,
          0.01,
          0.11,
          0.24,
          0,
          0.01,
          0.53,
          0.17,
          0.17,
          0.18,
          0.2,
          0.01,
          0.08,
          0,
          0.19,
          0.14,
          0,
          0,
          0.1,
          0.02,
          0.17,
          0.18,
          0.02,
          0.13,
          0.07,
          0.02,
          0.12,
          0.02,
          0.07,
          0,
          0.22,
          0.49,
          0.01,
          0,
          0.02,
          0,
          0.09,
          0.01,
          0.3,
          0.03,
          0.05,
          0.08,
          0,
          0,
          0.2,
          0.33,
          0.04,
          0.2,
          0.02,
          0.01,
          0.01,
          0,
          0.38,
          0,
          0.08,
          0.12,
          0.05,
          0,
          0,
          0.11,
          0,
          0.26,
          0.24,
          0.09,
          0.1,
          0.16,
          0.1,
          0.05,
          0,
          0.08,
          0,
          0.08
         ],
         "yaxis": "y"
        }
       ],
       "layout": {
        "legend": {
         "tracegroupgap": 0
        },
        "template": {
         "data": {
          "bar": [
           {
            "error_x": {
             "color": "#2a3f5f"
            },
            "error_y": {
             "color": "#2a3f5f"
            },
            "marker": {
             "line": {
              "color": "#E5ECF6",
              "width": 0.5
             },
             "pattern": {
              "fillmode": "overlay",
              "size": 10,
              "solidity": 0.2
             }
            },
            "type": "bar"
           }
          ],
          "barpolar": [
           {
            "marker": {
             "line": {
              "color": "#E5ECF6",
              "width": 0.5
             },
             "pattern": {
              "fillmode": "overlay",
              "size": 10,
              "solidity": 0.2
             }
            },
            "type": "barpolar"
           }
          ],
          "carpet": [
           {
            "aaxis": {
             "endlinecolor": "#2a3f5f",
             "gridcolor": "white",
             "linecolor": "white",
             "minorgridcolor": "white",
             "startlinecolor": "#2a3f5f"
            },
            "baxis": {
             "endlinecolor": "#2a3f5f",
             "gridcolor": "white",
             "linecolor": "white",
             "minorgridcolor": "white",
             "startlinecolor": "#2a3f5f"
            },
            "type": "carpet"
           }
          ],
          "choropleth": [
           {
            "colorbar": {
             "outlinewidth": 0,
             "ticks": ""
            },
            "type": "choropleth"
           }
          ],
          "contour": [
           {
            "colorbar": {
             "outlinewidth": 0,
             "ticks": ""
            },
            "colorscale": [
             [
              0,
              "#0d0887"
             ],
             [
              0.1111111111111111,
              "#46039f"
             ],
             [
              0.2222222222222222,
              "#7201a8"
             ],
             [
              0.3333333333333333,
              "#9c179e"
             ],
             [
              0.4444444444444444,
              "#bd3786"
             ],
             [
              0.5555555555555556,
              "#d8576b"
             ],
             [
              0.6666666666666666,
              "#ed7953"
             ],
             [
              0.7777777777777778,
              "#fb9f3a"
             ],
             [
              0.8888888888888888,
              "#fdca26"
             ],
             [
              1,
              "#f0f921"
             ]
            ],
            "type": "contour"
           }
          ],
          "contourcarpet": [
           {
            "colorbar": {
             "outlinewidth": 0,
             "ticks": ""
            },
            "type": "contourcarpet"
           }
          ],
          "heatmap": [
           {
            "colorbar": {
             "outlinewidth": 0,
             "ticks": ""
            },
            "colorscale": [
             [
              0,
              "#0d0887"
             ],
             [
              0.1111111111111111,
              "#46039f"
             ],
             [
              0.2222222222222222,
              "#7201a8"
             ],
             [
              0.3333333333333333,
              "#9c179e"
             ],
             [
              0.4444444444444444,
              "#bd3786"
             ],
             [
              0.5555555555555556,
              "#d8576b"
             ],
             [
              0.6666666666666666,
              "#ed7953"
             ],
             [
              0.7777777777777778,
              "#fb9f3a"
             ],
             [
              0.8888888888888888,
              "#fdca26"
             ],
             [
              1,
              "#f0f921"
             ]
            ],
            "type": "heatmap"
           }
          ],
          "heatmapgl": [
           {
            "colorbar": {
             "outlinewidth": 0,
             "ticks": ""
            },
            "colorscale": [
             [
              0,
              "#0d0887"
             ],
             [
              0.1111111111111111,
              "#46039f"
             ],
             [
              0.2222222222222222,
              "#7201a8"
             ],
             [
              0.3333333333333333,
              "#9c179e"
             ],
             [
              0.4444444444444444,
              "#bd3786"
             ],
             [
              0.5555555555555556,
              "#d8576b"
             ],
             [
              0.6666666666666666,
              "#ed7953"
             ],
             [
              0.7777777777777778,
              "#fb9f3a"
             ],
             [
              0.8888888888888888,
              "#fdca26"
             ],
             [
              1,
              "#f0f921"
             ]
            ],
            "type": "heatmapgl"
           }
          ],
          "histogram": [
           {
            "marker": {
             "pattern": {
              "fillmode": "overlay",
              "size": 10,
              "solidity": 0.2
             }
            },
            "type": "histogram"
           }
          ],
          "histogram2d": [
           {
            "colorbar": {
             "outlinewidth": 0,
             "ticks": ""
            },
            "colorscale": [
             [
              0,
              "#0d0887"
             ],
             [
              0.1111111111111111,
              "#46039f"
             ],
             [
              0.2222222222222222,
              "#7201a8"
             ],
             [
              0.3333333333333333,
              "#9c179e"
             ],
             [
              0.4444444444444444,
              "#bd3786"
             ],
             [
              0.5555555555555556,
              "#d8576b"
             ],
             [
              0.6666666666666666,
              "#ed7953"
             ],
             [
              0.7777777777777778,
              "#fb9f3a"
             ],
             [
              0.8888888888888888,
              "#fdca26"
             ],
             [
              1,
              "#f0f921"
             ]
            ],
            "type": "histogram2d"
           }
          ],
          "histogram2dcontour": [
           {
            "colorbar": {
             "outlinewidth": 0,
             "ticks": ""
            },
            "colorscale": [
             [
              0,
              "#0d0887"
             ],
             [
              0.1111111111111111,
              "#46039f"
             ],
             [
              0.2222222222222222,
              "#7201a8"
             ],
             [
              0.3333333333333333,
              "#9c179e"
             ],
             [
              0.4444444444444444,
              "#bd3786"
             ],
             [
              0.5555555555555556,
              "#d8576b"
             ],
             [
              0.6666666666666666,
              "#ed7953"
             ],
             [
              0.7777777777777778,
              "#fb9f3a"
             ],
             [
              0.8888888888888888,
              "#fdca26"
             ],
             [
              1,
              "#f0f921"
             ]
            ],
            "type": "histogram2dcontour"
           }
          ],
          "mesh3d": [
           {
            "colorbar": {
             "outlinewidth": 0,
             "ticks": ""
            },
            "type": "mesh3d"
           }
          ],
          "parcoords": [
           {
            "line": {
             "colorbar": {
              "outlinewidth": 0,
              "ticks": ""
             }
            },
            "type": "parcoords"
           }
          ],
          "pie": [
           {
            "automargin": true,
            "type": "pie"
           }
          ],
          "scatter": [
           {
            "fillpattern": {
             "fillmode": "overlay",
             "size": 10,
             "solidity": 0.2
            },
            "type": "scatter"
           }
          ],
          "scatter3d": [
           {
            "line": {
             "colorbar": {
              "outlinewidth": 0,
              "ticks": ""
             }
            },
            "marker": {
             "colorbar": {
              "outlinewidth": 0,
              "ticks": ""
             }
            },
            "type": "scatter3d"
           }
          ],
          "scattercarpet": [
           {
            "marker": {
             "colorbar": {
              "outlinewidth": 0,
              "ticks": ""
             }
            },
            "type": "scattercarpet"
           }
          ],
          "scattergeo": [
           {
            "marker": {
             "colorbar": {
              "outlinewidth": 0,
              "ticks": ""
             }
            },
            "type": "scattergeo"
           }
          ],
          "scattergl": [
           {
            "marker": {
             "colorbar": {
              "outlinewidth": 0,
              "ticks": ""
             }
            },
            "type": "scattergl"
           }
          ],
          "scattermapbox": [
           {
            "marker": {
             "colorbar": {
              "outlinewidth": 0,
              "ticks": ""
             }
            },
            "type": "scattermapbox"
           }
          ],
          "scatterpolar": [
           {
            "marker": {
             "colorbar": {
              "outlinewidth": 0,
              "ticks": ""
             }
            },
            "type": "scatterpolar"
           }
          ],
          "scatterpolargl": [
           {
            "marker": {
             "colorbar": {
              "outlinewidth": 0,
              "ticks": ""
             }
            },
            "type": "scatterpolargl"
           }
          ],
          "scatterternary": [
           {
            "marker": {
             "colorbar": {
              "outlinewidth": 0,
              "ticks": ""
             }
            },
            "type": "scatterternary"
           }
          ],
          "surface": [
           {
            "colorbar": {
             "outlinewidth": 0,
             "ticks": ""
            },
            "colorscale": [
             [
              0,
              "#0d0887"
             ],
             [
              0.1111111111111111,
              "#46039f"
             ],
             [
              0.2222222222222222,
              "#7201a8"
             ],
             [
              0.3333333333333333,
              "#9c179e"
             ],
             [
              0.4444444444444444,
              "#bd3786"
             ],
             [
              0.5555555555555556,
              "#d8576b"
             ],
             [
              0.6666666666666666,
              "#ed7953"
             ],
             [
              0.7777777777777778,
              "#fb9f3a"
             ],
             [
              0.8888888888888888,
              "#fdca26"
             ],
             [
              1,
              "#f0f921"
             ]
            ],
            "type": "surface"
           }
          ],
          "table": [
           {
            "cells": {
             "fill": {
              "color": "#EBF0F8"
             },
             "line": {
              "color": "white"
             }
            },
            "header": {
             "fill": {
              "color": "#C8D4E3"
             },
             "line": {
              "color": "white"
             }
            },
            "type": "table"
           }
          ]
         },
         "layout": {
          "annotationdefaults": {
           "arrowcolor": "#2a3f5f",
           "arrowhead": 0,
           "arrowwidth": 1
          },
          "autotypenumbers": "strict",
          "coloraxis": {
           "colorbar": {
            "outlinewidth": 0,
            "ticks": ""
           }
          },
          "colorscale": {
           "diverging": [
            [
             0,
             "#8e0152"
            ],
            [
             0.1,
             "#c51b7d"
            ],
            [
             0.2,
             "#de77ae"
            ],
            [
             0.3,
             "#f1b6da"
            ],
            [
             0.4,
             "#fde0ef"
            ],
            [
             0.5,
             "#f7f7f7"
            ],
            [
             0.6,
             "#e6f5d0"
            ],
            [
             0.7,
             "#b8e186"
            ],
            [
             0.8,
             "#7fbc41"
            ],
            [
             0.9,
             "#4d9221"
            ],
            [
             1,
             "#276419"
            ]
           ],
           "sequential": [
            [
             0,
             "#0d0887"
            ],
            [
             0.1111111111111111,
             "#46039f"
            ],
            [
             0.2222222222222222,
             "#7201a8"
            ],
            [
             0.3333333333333333,
             "#9c179e"
            ],
            [
             0.4444444444444444,
             "#bd3786"
            ],
            [
             0.5555555555555556,
             "#d8576b"
            ],
            [
             0.6666666666666666,
             "#ed7953"
            ],
            [
             0.7777777777777778,
             "#fb9f3a"
            ],
            [
             0.8888888888888888,
             "#fdca26"
            ],
            [
             1,
             "#f0f921"
            ]
           ],
           "sequentialminus": [
            [
             0,
             "#0d0887"
            ],
            [
             0.1111111111111111,
             "#46039f"
            ],
            [
             0.2222222222222222,
             "#7201a8"
            ],
            [
             0.3333333333333333,
             "#9c179e"
            ],
            [
             0.4444444444444444,
             "#bd3786"
            ],
            [
             0.5555555555555556,
             "#d8576b"
            ],
            [
             0.6666666666666666,
             "#ed7953"
            ],
            [
             0.7777777777777778,
             "#fb9f3a"
            ],
            [
             0.8888888888888888,
             "#fdca26"
            ],
            [
             1,
             "#f0f921"
            ]
           ]
          },
          "colorway": [
           "#636efa",
           "#EF553B",
           "#00cc96",
           "#ab63fa",
           "#FFA15A",
           "#19d3f3",
           "#FF6692",
           "#B6E880",
           "#FF97FF",
           "#FECB52"
          ],
          "font": {
           "color": "#2a3f5f"
          },
          "geo": {
           "bgcolor": "white",
           "lakecolor": "white",
           "landcolor": "#E5ECF6",
           "showlakes": true,
           "showland": true,
           "subunitcolor": "white"
          },
          "hoverlabel": {
           "align": "left"
          },
          "hovermode": "closest",
          "mapbox": {
           "style": "light"
          },
          "paper_bgcolor": "white",
          "plot_bgcolor": "#E5ECF6",
          "polar": {
           "angularaxis": {
            "gridcolor": "white",
            "linecolor": "white",
            "ticks": ""
           },
           "bgcolor": "#E5ECF6",
           "radialaxis": {
            "gridcolor": "white",
            "linecolor": "white",
            "ticks": ""
           }
          },
          "scene": {
           "xaxis": {
            "backgroundcolor": "#E5ECF6",
            "gridcolor": "white",
            "gridwidth": 2,
            "linecolor": "white",
            "showbackground": true,
            "ticks": "",
            "zerolinecolor": "white"
           },
           "yaxis": {
            "backgroundcolor": "#E5ECF6",
            "gridcolor": "white",
            "gridwidth": 2,
            "linecolor": "white",
            "showbackground": true,
            "ticks": "",
            "zerolinecolor": "white"
           },
           "zaxis": {
            "backgroundcolor": "#E5ECF6",
            "gridcolor": "white",
            "gridwidth": 2,
            "linecolor": "white",
            "showbackground": true,
            "ticks": "",
            "zerolinecolor": "white"
           }
          },
          "shapedefaults": {
           "line": {
            "color": "#2a3f5f"
           }
          },
          "ternary": {
           "aaxis": {
            "gridcolor": "white",
            "linecolor": "white",
            "ticks": ""
           },
           "baxis": {
            "gridcolor": "white",
            "linecolor": "white",
            "ticks": ""
           },
           "bgcolor": "#E5ECF6",
           "caxis": {
            "gridcolor": "white",
            "linecolor": "white",
            "ticks": ""
           }
          },
          "title": {
           "x": 0.05
          },
          "xaxis": {
           "automargin": true,
           "gridcolor": "white",
           "linecolor": "white",
           "ticks": "",
           "title": {
            "standoff": 15
           },
           "zerolinecolor": "white",
           "zerolinewidth": 2
          },
          "yaxis": {
           "automargin": true,
           "gridcolor": "white",
           "linecolor": "white",
           "ticks": "",
           "title": {
            "standoff": 15
           },
           "zerolinecolor": "white",
           "zerolinewidth": 2
          }
         }
        },
        "title": {
         "text": "Goal contributions"
        },
        "xaxis": {
         "anchor": "y",
         "domain": [
          0,
          1
         ],
         "title": {
          "text": "xg_per90"
         }
        },
        "yaxis": {
         "anchor": "x",
         "domain": [
          0,
          1
         ],
         "title": {
          "text": "xg_assist_per90"
         }
        }
       }
      }
     },
     "metadata": {},
     "output_type": "display_data"
    }
   ],
   "source": [
    "import plotly.express as px\n",
    "\n",
    "px.scatter(player_stats[player_stats['minutes'] >= 500], x='xg_per90', y='xg_assist_per90', hover_name='player', title='Goal contributions')"
   ]
  },
  {
   "cell_type": "code",
   "execution_count": 13,
   "metadata": {},
   "outputs": [
    {
     "ename": "InvalidIndexError",
     "evalue": "(slice(None, None, None), 0)",
     "output_type": "error",
     "traceback": [
      "\u001b[1;31m---------------------------------------------------------------------------\u001b[0m",
      "\u001b[1;31mTypeError\u001b[0m                                 Traceback (most recent call last)",
      "\u001b[1;32mc:\\Users\\hanst\\anaconda3\\lib\\site-packages\\pandas\\core\\indexes\\base.py\u001b[0m in \u001b[0;36mget_loc\u001b[1;34m(self, key, method, tolerance)\u001b[0m\n\u001b[0;32m   3628\u001b[0m             \u001b[1;32mtry\u001b[0m\u001b[1;33m:\u001b[0m\u001b[1;33m\u001b[0m\u001b[1;33m\u001b[0m\u001b[0m\n\u001b[1;32m-> 3629\u001b[1;33m                 \u001b[1;32mreturn\u001b[0m \u001b[0mself\u001b[0m\u001b[1;33m.\u001b[0m\u001b[0m_engine\u001b[0m\u001b[1;33m.\u001b[0m\u001b[0mget_loc\u001b[0m\u001b[1;33m(\u001b[0m\u001b[0mcasted_key\u001b[0m\u001b[1;33m)\u001b[0m\u001b[1;33m\u001b[0m\u001b[1;33m\u001b[0m\u001b[0m\n\u001b[0m\u001b[0;32m   3630\u001b[0m             \u001b[1;32mexcept\u001b[0m \u001b[0mKeyError\u001b[0m \u001b[1;32mas\u001b[0m \u001b[0merr\u001b[0m\u001b[1;33m:\u001b[0m\u001b[1;33m\u001b[0m\u001b[1;33m\u001b[0m\u001b[0m\n",
      "\u001b[1;32mc:\\Users\\hanst\\anaconda3\\lib\\site-packages\\pandas\\_libs\\index.pyx\u001b[0m in \u001b[0;36mpandas._libs.index.IndexEngine.get_loc\u001b[1;34m()\u001b[0m\n",
      "\u001b[1;32mc:\\Users\\hanst\\anaconda3\\lib\\site-packages\\pandas\\_libs\\index.pyx\u001b[0m in \u001b[0;36mpandas._libs.index.IndexEngine.get_loc\u001b[1;34m()\u001b[0m\n",
      "\u001b[1;31mTypeError\u001b[0m: '(slice(None, None, None), 0)' is an invalid key",
      "\nDuring handling of the above exception, another exception occurred:\n",
      "\u001b[1;31mInvalidIndexError\u001b[0m                         Traceback (most recent call last)",
      "\u001b[1;32m~\\AppData\\Local\\Temp\\ipykernel_11904\\674808919.py\u001b[0m in \u001b[0;36m<module>\u001b[1;34m\u001b[0m\n\u001b[0;32m     54\u001b[0m \u001b[1;33m\u001b[0m\u001b[0m\n\u001b[0;32m     55\u001b[0m \u001b[1;31m# Visualize the clustered data (in reduced dimension) with Plotly Express\u001b[0m\u001b[1;33m\u001b[0m\u001b[1;33m\u001b[0m\u001b[0m\n\u001b[1;32m---> 56\u001b[1;33m fig = px.scatter(data, x=pca_df[:, 0], y=pca_df[:, 1], color=cluster_labels,\n\u001b[0m\u001b[0;32m     57\u001b[0m                  title='Affinity Propagation Clustering')\n\u001b[0;32m     58\u001b[0m \u001b[0mfig\u001b[0m\u001b[1;33m.\u001b[0m\u001b[0mupdate_xaxes\u001b[0m\u001b[1;33m(\u001b[0m\u001b[0mtitle_text\u001b[0m\u001b[1;33m=\u001b[0m\u001b[1;34m'Principal Component 1'\u001b[0m\u001b[1;33m)\u001b[0m\u001b[1;33m\u001b[0m\u001b[1;33m\u001b[0m\u001b[0m\n",
      "\u001b[1;32mc:\\Users\\hanst\\anaconda3\\lib\\site-packages\\pandas\\core\\frame.py\u001b[0m in \u001b[0;36m__getitem__\u001b[1;34m(self, key)\u001b[0m\n\u001b[0;32m   3503\u001b[0m             \u001b[1;32mif\u001b[0m \u001b[0mself\u001b[0m\u001b[1;33m.\u001b[0m\u001b[0mcolumns\u001b[0m\u001b[1;33m.\u001b[0m\u001b[0mnlevels\u001b[0m \u001b[1;33m>\u001b[0m \u001b[1;36m1\u001b[0m\u001b[1;33m:\u001b[0m\u001b[1;33m\u001b[0m\u001b[1;33m\u001b[0m\u001b[0m\n\u001b[0;32m   3504\u001b[0m                 \u001b[1;32mreturn\u001b[0m \u001b[0mself\u001b[0m\u001b[1;33m.\u001b[0m\u001b[0m_getitem_multilevel\u001b[0m\u001b[1;33m(\u001b[0m\u001b[0mkey\u001b[0m\u001b[1;33m)\u001b[0m\u001b[1;33m\u001b[0m\u001b[1;33m\u001b[0m\u001b[0m\n\u001b[1;32m-> 3505\u001b[1;33m             \u001b[0mindexer\u001b[0m \u001b[1;33m=\u001b[0m \u001b[0mself\u001b[0m\u001b[1;33m.\u001b[0m\u001b[0mcolumns\u001b[0m\u001b[1;33m.\u001b[0m\u001b[0mget_loc\u001b[0m\u001b[1;33m(\u001b[0m\u001b[0mkey\u001b[0m\u001b[1;33m)\u001b[0m\u001b[1;33m\u001b[0m\u001b[1;33m\u001b[0m\u001b[0m\n\u001b[0m\u001b[0;32m   3506\u001b[0m             \u001b[1;32mif\u001b[0m \u001b[0mis_integer\u001b[0m\u001b[1;33m(\u001b[0m\u001b[0mindexer\u001b[0m\u001b[1;33m)\u001b[0m\u001b[1;33m:\u001b[0m\u001b[1;33m\u001b[0m\u001b[1;33m\u001b[0m\u001b[0m\n\u001b[0;32m   3507\u001b[0m                 \u001b[0mindexer\u001b[0m \u001b[1;33m=\u001b[0m \u001b[1;33m[\u001b[0m\u001b[0mindexer\u001b[0m\u001b[1;33m]\u001b[0m\u001b[1;33m\u001b[0m\u001b[1;33m\u001b[0m\u001b[0m\n",
      "\u001b[1;32mc:\\Users\\hanst\\anaconda3\\lib\\site-packages\\pandas\\core\\indexes\\base.py\u001b[0m in \u001b[0;36mget_loc\u001b[1;34m(self, key, method, tolerance)\u001b[0m\n\u001b[0;32m   3634\u001b[0m                 \u001b[1;31m#  InvalidIndexError. Otherwise we fall through and re-raise\u001b[0m\u001b[1;33m\u001b[0m\u001b[1;33m\u001b[0m\u001b[0m\n\u001b[0;32m   3635\u001b[0m                 \u001b[1;31m#  the TypeError.\u001b[0m\u001b[1;33m\u001b[0m\u001b[1;33m\u001b[0m\u001b[0m\n\u001b[1;32m-> 3636\u001b[1;33m                 \u001b[0mself\u001b[0m\u001b[1;33m.\u001b[0m\u001b[0m_check_indexing_error\u001b[0m\u001b[1;33m(\u001b[0m\u001b[0mkey\u001b[0m\u001b[1;33m)\u001b[0m\u001b[1;33m\u001b[0m\u001b[1;33m\u001b[0m\u001b[0m\n\u001b[0m\u001b[0;32m   3637\u001b[0m                 \u001b[1;32mraise\u001b[0m\u001b[1;33m\u001b[0m\u001b[1;33m\u001b[0m\u001b[0m\n\u001b[0;32m   3638\u001b[0m \u001b[1;33m\u001b[0m\u001b[0m\n",
      "\u001b[1;32mc:\\Users\\hanst\\anaconda3\\lib\\site-packages\\pandas\\core\\indexes\\base.py\u001b[0m in \u001b[0;36m_check_indexing_error\u001b[1;34m(self, key)\u001b[0m\n\u001b[0;32m   5649\u001b[0m             \u001b[1;31m# if key is not a scalar, directly raise an error (the code below\u001b[0m\u001b[1;33m\u001b[0m\u001b[1;33m\u001b[0m\u001b[0m\n\u001b[0;32m   5650\u001b[0m             \u001b[1;31m# would convert to numpy arrays and raise later any way) - GH29926\u001b[0m\u001b[1;33m\u001b[0m\u001b[1;33m\u001b[0m\u001b[0m\n\u001b[1;32m-> 5651\u001b[1;33m             \u001b[1;32mraise\u001b[0m \u001b[0mInvalidIndexError\u001b[0m\u001b[1;33m(\u001b[0m\u001b[0mkey\u001b[0m\u001b[1;33m)\u001b[0m\u001b[1;33m\u001b[0m\u001b[1;33m\u001b[0m\u001b[0m\n\u001b[0m\u001b[0;32m   5652\u001b[0m \u001b[1;33m\u001b[0m\u001b[0m\n\u001b[0;32m   5653\u001b[0m     \u001b[1;33m@\u001b[0m\u001b[0mcache_readonly\u001b[0m\u001b[1;33m\u001b[0m\u001b[1;33m\u001b[0m\u001b[0m\n",
      "\u001b[1;31mInvalidIndexError\u001b[0m: (slice(None, None, None), 0)"
     ]
    }
   ],
   "source": [
    "import matplotlib.pyplot as plt\n",
    "from sklearn.cluster import KMeans, AffinityPropagation\n",
    "from sklearn.feature_selection import VarianceThreshold\n",
    "from sklearn.preprocessing import StandardScaler\n",
    "from statsmodels.stats.outliers_influence import variance_inflation_factor\n",
    "from sklearn.decomposition import PCA\n",
    "\n",
    "# Standardize the features (mean=0, std=1)\n",
    "# Step 1: Extract numeric columns\n",
    "numeric_columns = mid.select_dtypes(include='float64').columns\n",
    "data_num = mid[numeric_columns]\n",
    "\n",
    "# Variance threshold to remove any features that have little to no variation in their values\n",
    "selector = VarianceThreshold(threshold=0)\n",
    "selected_features = selector.fit_transform(data_num)\n",
    "\n",
    "# Specify `indices=True` to get indices of selected features\n",
    "# Use indices to get the corresponding column names of selected features\n",
    "num_cols = list(data_num.columns[selector.get_support(indices=True)])\n",
    "# Subset `data` to retain only selected features\n",
    "data = data_num[num_cols]\n",
    "\n",
    "# Standardize using scaler\n",
    "scaler = StandardScaler()\n",
    "data_scal = pd.DataFrame(scaler.fit_transform(data), columns = data.columns)\n",
    "\n",
    "# Calculate the correlation matrix for the principal components\n",
    "corr_matrix = data_scal.corr(method='pearson')\n",
    "\n",
    "# Step 2: Identify groups of highly correlated features\n",
    "# You can define a threshold (e.g., 0.80) to consider features as highly correlated\n",
    "threshold = 0.80\n",
    "corr_groups = {}  # Dictionary to store groups of correlated features\n",
    "\n",
    "for feature in corr_matrix.columns:\n",
    "    corr_feat = corr_matrix.index[corr_matrix[feature] > threshold].tolist()\n",
    "    if corr_feat:\n",
    "        corr_feat.append(feature)  # Include the original feature\n",
    "        corr_groups[feature] = corr_feat\n",
    "\n",
    "# Step 3: Choose one representative feature from each group\n",
    "# You can select a feature based on domain knowledge or a specific criterion\n",
    "repr_feat = []\n",
    "for group in corr_groups.values():\n",
    "    # Here, we choose the first feature in each group as the representative\n",
    "    repr_feat.append(group[0])\n",
    "\n",
    "# Step 4: Create a new DataFrame with representative features\n",
    "filter_data = data_scal[repr_feat]\n",
    "print(filter_data)\n",
    "\n",
    "scaler = StandardScaler()\n",
    "data_scal = pd.DataFrame(scaler.fit_transform(data), columns = data.columns)\n",
    "\n",
    "# Step 5: Apply PCA to the filtered data to reduce dimensionality\n",
    "pca = PCA(n_components='mle')\n",
    "pca_result = pca.fit_transform(data_scal)\n",
    "pca_df = pd.DataFrame(pca.components_,columns=data_scal.columns)\n",
    "\n",
    "# Perform Affinity Propagation clustering\n",
    "affinity_propagation = AffinityPropagation(damping=0.9)\n",
    "cluster_labels = affinity_propagation.fit_predict(pca_df)\n",
    "\n",
    "# Add the cluster labels to the DataFrame\n",
    "pca_df['Cluster'] = cluster_labels\n",
    "\n",
    "# Visualize the clustered data (in reduced dimension) with Plotly Express\n",
    "fig = px.scatter(data, x=pca_df[:, 0], y=pca_df[:, 1], color=cluster_labels,\n",
    "                 title='Affinity Propagation Clustering')\n",
    "fig.update_xaxes(title_text='Principal Component 1')\n",
    "fig.update_yaxes(title_text='Principal Component 2')\n",
    "fig.show()"
   ]
  },
  {
   "cell_type": "code",
   "execution_count": null,
   "metadata": {},
   "outputs": [
    {
     "name": "stdout",
     "output_type": "stream",
     "text": [
      "          age  birth_year     games  games_starts     games     games  \\\n",
      "0   -1.275369    1.153924 -0.118688     -0.152130 -0.118688 -0.118688   \n",
      "1   -1.033737    1.153924  0.722186     -0.152130  0.722186  0.722186   \n",
      "2   -1.096990    1.153924 -0.959562     -1.156190 -0.959562 -0.959562   \n",
      "3    0.351214   -0.424070 -0.118688      0.517243 -0.118688 -0.118688   \n",
      "4   -0.882353    0.890925  1.142624      1.186617  1.142624  1.142624   \n",
      "..        ...         ...       ...           ...       ...       ...   \n",
      "204  0.840565   -0.950068  0.301749     -1.156190  0.301749  0.301749   \n",
      "205  0.054533   -0.161071  0.301749     -0.152130  0.301749  0.301749   \n",
      "206 -0.371829    0.364927  0.301749     -0.152130  0.301749  0.301749   \n",
      "207 -0.729381    0.627926 -0.959562     -1.156190 -0.959562 -0.959562   \n",
      "208 -0.228915    0.101928  1.142624      1.521303  1.142624  1.142624   \n",
      "\n",
      "        goals   assists     goals     goals  ...  goals_per90  assists_per90  \\\n",
      "0   -0.540978 -0.469521 -0.540978 -0.540978  ...    -0.445468      -0.361463   \n",
      "1    1.612631  0.838877  1.612631  1.612631  ...     1.413210       0.846578   \n",
      "2   -0.540978 -0.469521 -0.540978 -0.540978  ...    -0.445468      -0.361463   \n",
      "3   -0.540978 -0.469521 -0.540978 -0.540978  ...    -0.445468      -0.361463   \n",
      "4   -0.540978 -0.469521 -0.540978 -0.540978  ...    -0.445468      -0.361463   \n",
      "..        ...       ...       ...       ...  ...          ...            ...   \n",
      "204 -0.540978 -0.469521 -0.540978 -0.540978  ...    -0.445468      -0.361463   \n",
      "205 -0.540978 -0.469521 -0.540978 -0.540978  ...    -0.445468      -0.361463   \n",
      "206 -0.540978 -0.469521 -0.540978 -0.540978  ...    -0.445468      -0.361463   \n",
      "207 -0.540978 -0.469521 -0.540978 -0.540978  ...    -0.445468      -0.361463   \n",
      "208  2.689436  0.838877  2.689436  2.689436  ...     0.838709       0.199413   \n",
      "\n",
      "     goals_assists_per90  goals_per90  goals_assists_per90  xg_per90  \\\n",
      "0              -0.559924    -0.445468            -0.559924 -0.285251   \n",
      "1               1.596604     1.413210             1.596604  0.099585   \n",
      "2              -0.559924    -0.445468            -0.559924 -0.541809   \n",
      "3              -0.559924    -0.445468            -0.559924 -0.509739   \n",
      "4              -0.559924    -0.445468            -0.559924 -0.253182   \n",
      "..                   ...          ...                  ...       ...   \n",
      "204            -0.559924    -0.445468            -0.559924  1.703068   \n",
      "205            -0.559924    -0.445468            -0.559924 -0.541809   \n",
      "206            -0.559924    -0.445468            -0.559924  0.099585   \n",
      "207            -0.559924    -0.445468            -0.559924  0.099585   \n",
      "208             0.765172     0.838709             0.765172  0.516491   \n",
      "\n",
      "     xg_assist_per90  xg_per90  xg_per90  xg_per90  \n",
      "0           0.061027 -0.285251 -0.285251 -0.285251  \n",
      "1           1.329807  0.099585  0.099585  0.099585  \n",
      "2          -0.807086 -0.541809 -0.541809 -0.541809  \n",
      "3          -0.740308 -0.509739 -0.509739 -0.509739  \n",
      "4          -0.673530 -0.253182 -0.253182 -0.253182  \n",
      "..               ...       ...       ...       ...  \n",
      "204         2.131142  1.703068  1.703068  1.703068  \n",
      "205        -0.807086 -0.541809 -0.541809 -0.541809  \n",
      "206         0.662028  0.099585  0.099585  0.099585  \n",
      "207        -0.406419  0.099585  0.099585  0.099585  \n",
      "208        -0.339641  0.516491  0.516491  0.516491  \n",
      "\n",
      "[209 rows x 31 columns]\n"
     ]
    }
   ],
   "source": [
    "import numpy as np\n",
    "import pandas as pd\n",
    "import seaborn as sns\n",
    "import matplotlib.pyplot as plt\n",
    "from sklearn.cluster import KMeans, AffinityPropagation\n",
    "from sklearn.feature_selection import VarianceThreshold\n",
    "from sklearn.preprocessing import StandardScaler\n",
    "from statsmodels.stats.outliers_influence import variance_inflation_factor\n",
    "from sklearn.decomposition import PCA\n",
    "\n",
    "# Standardize the features (mean=0, std=1)\n",
    "# Step 1: Extract numeric columns\n",
    "numeric_columns = mid.select_dtypes(include='float64').columns\n",
    "data_num = mid[numeric_columns]\n",
    "\n",
    "# Variance threshold to remove any features that have little to no variation in their values\n",
    "selector = VarianceThreshold(threshold=0)\n",
    "selected_features = selector.fit_transform(data_num)\n",
    "\n",
    "# Specify `indices=True` to get indices of selected features\n",
    "# Use indices to get the corresponding column names of selected features\n",
    "\n",
    "num_cols = list(data_num.columns[selector.get_support(indices=True)])\n",
    "\n",
    "# Subset `data` to retain only selected features\n",
    "data = data_num[num_cols]\n",
    "\n",
    "# Standardize using scaler\n",
    "scaler = StandardScaler()\n",
    "data_scal = pd.DataFrame(scaler.fit_transform(data), columns = data.columns)\n",
    "\n",
    "# Calculate the correlation matrix for the principal components\n",
    "corr_matrix_scal = data_scal.corr(method='pearson')\n",
    "\n",
    "# Step 2: Identify groups of highly correlated features\n",
    "# You can define a threshold (e.g., 0.80) to consider features as highly correlated\n",
    "threshold = 0.80\n",
    "corr_groups = {}  # Dictionary to store groups of correlated features\n",
    "\n",
    "for feature in corr_matrix_scal.columns:\n",
    "    correlated_features = corr_matrix_scal.index[corr_matrix_scal[feature] > threshold].tolist()\n",
    "    if correlated_features:\n",
    "        correlated_features.append(feature)  # Include the original feature\n",
    "        corr_groups[feature] = correlated_features\n",
    "\n",
    "# Step 3: Choose one representative feature from each group\n",
    "# You can select a feature based on domain knowledge or a specific criterion\n",
    "representative_features = []\n",
    "for group in corr_groups.values():\n",
    "    # Here, we choose the first feature in each group as the representative\n",
    "    representative_features.append(group[0])\n",
    "\n",
    "# Step 4: Create a new DataFrame with representative features\n",
    "filter_data = data_scal[representative_features]\n",
    "print(filter_data)\n",
    "\n",
    "# # Create a DataFrame from the correlation matrix with feature names\n",
    "# feature_names = data.columns\n",
    "# correlation_df_scal = pd.DataFrame(corr_matrix_scal, columns=feature_names, index=feature_names)\n",
    "\n",
    "# # Create a heatmap of the correlation matrix\n",
    "# plt.figure(figsize=(36, 24))\n",
    "# sns.heatmap(correlation_df_scal, annot=True, cmap='coolwarm', fmt=\".2f\", linewidths=0.5)\n",
    "# plt.title('Correlation Matrix Heatmap (PCA)')\n",
    "# plt.show()\n",
    "\n"
   ]
  }
 ],
 "metadata": {
  "kernelspec": {
   "display_name": "base",
   "language": "python",
   "name": "python3"
  },
  "language_info": {
   "codemirror_mode": {
    "name": "ipython",
    "version": 3
   },
   "file_extension": ".py",
   "mimetype": "text/x-python",
   "name": "python",
   "nbconvert_exporter": "python",
   "pygments_lexer": "ipython3",
   "version": "3.9.13"
  },
  "orig_nbformat": 4
 },
 "nbformat": 4,
 "nbformat_minor": 2
}
